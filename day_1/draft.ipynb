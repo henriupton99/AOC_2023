{
 "cells": [
  {
   "cell_type": "code",
   "execution_count": 14,
   "metadata": {},
   "outputs": [
    {
     "name": "stdout",
     "output_type": "stream",
     "text": [
      "two1nine\n",
      "\n",
      "29\n",
      "eightwothree\n",
      "\n",
      "83\n",
      "abcone2threexyz\n",
      "\n",
      "13\n",
      "xtwone3four\n",
      "\n",
      "24\n",
      "4nineeightseven2\n",
      "\n",
      "42\n",
      "zoneight234\n",
      "\n",
      "14\n",
      "7pqrstsixteen\n",
      "76\n"
     ]
    }
   ],
   "source": [
    "map_letters_to_number = {\n",
    "    \"one\" : \"1\", \n",
    "    \"two\" : \"2\",\n",
    "    \"three\" : \"3\",\n",
    "    \"four\" : \"4\",\n",
    "    \"five\" : \"5\",\n",
    "    \"six\" : \"6\",\n",
    "    \"seven\" : \"7\",\n",
    "    \"eight\" : \"8\",\n",
    "    \"nine\" : \"9\"\n",
    "}\n",
    "\n",
    "sum_digits_lines = 0\n",
    "with open(\"test.txt\") as file:\n",
    "    for line in file.readlines():\n",
    "        line_numbers = []\n",
    "        for i, string in enumerate(line):\n",
    "            if string in map_letters_to_number.values():\n",
    "                line_numbers.append(string)\n",
    "            else:\n",
    "                for digit_as_letter, digit_as_number in map_letters_to_number.items():\n",
    "                    if digit_as_letter.startswith(string):\n",
    "                        if line[i:i+len(digit_as_letter)] == digit_as_letter:\n",
    "                            line_numbers.append(digit_as_number)\n",
    "        first_digit = line_numbers[0]\n",
    "        last_digit = line_numbers[-1]\n",
    "        sum_digits_lines += int(f\"{first_digit}{last_digit}\")\n",
    "                        "
   ]
  },
  {
   "cell_type": "code",
   "execution_count": null,
   "metadata": {},
   "outputs": [],
   "source": []
  }
 ],
 "metadata": {
  "kernelspec": {
   "display_name": "Python 3",
   "language": "python",
   "name": "python3"
  },
  "language_info": {
   "codemirror_mode": {
    "name": "ipython",
    "version": 3
   },
   "file_extension": ".py",
   "mimetype": "text/x-python",
   "name": "python",
   "nbconvert_exporter": "python",
   "pygments_lexer": "ipython3",
   "version": "3.10.9"
  }
 },
 "nbformat": 4,
 "nbformat_minor": 2
}
